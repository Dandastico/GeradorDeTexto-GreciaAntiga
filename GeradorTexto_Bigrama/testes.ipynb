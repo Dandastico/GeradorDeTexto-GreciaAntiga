{
 "cells": [
  {
   "cell_type": "code",
   "execution_count": null,
   "metadata": {},
   "outputs": [
    {
     "name": "stdout",
     "output_type": "stream",
     "text": [
      "Eu sÃ³ quero ser feliz.\n"
     ]
    }
   ],
   "source": [
    "cln_file = \"test.txt\"\n",
    "\n",
    "def get_bigrams(cln_file):\n",
    "    '''\n",
    "    Compõe bigramas usando o modelo de Markov\n",
    "    Rettorna um dicionário\n",
    "    Chave: string\n",
    "    Valor: lista de strings que seguiram a string chave no texto avaliado\n",
    "    '''\n",
    "    bigrams_map = {}\n",
    "    for line in open(cln_file, encoding=\"utf-8\"):\n",
    "        print(line)\n",
    "\n",
    "get_bigrams(cln_file)"
   ]
  }
 ],
 "metadata": {
  "kernelspec": {
   "display_name": "Python 3",
   "language": "python",
   "name": "python3"
  },
  "language_info": {
   "codemirror_mode": {
    "name": "ipython",
    "version": 3
   },
   "file_extension": ".py",
   "mimetype": "text/x-python",
   "name": "python",
   "nbconvert_exporter": "python",
   "pygments_lexer": "ipython3",
   "version": "3.12.5"
  }
 },
 "nbformat": 4,
 "nbformat_minor": 2
}
